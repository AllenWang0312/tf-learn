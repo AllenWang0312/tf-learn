{
 "cells": [
  {
   "cell_type": "markdown",
   "metadata": {
    "colab_type": "text",
    "id": "view-in-github"
   },
   "source": [
    "<a href=\"https://colab.research.google.com/github/OoswantoO/tf-learn/blob/master/Overview_of_Colaboratory_Features.ipynb\" target=\"_parent\"><img src=\"https://colab.research.google.com/assets/colab-badge.svg\" alt=\"Open In Colab\"/></a>"
   ]
  },
  {
   "cell_type": "markdown",
   "metadata": {
    "colab_type": "text",
    "id": "JyG45Qk3qQLS"
   },
   "source": [
    "# Cells\n",
    "A notebook is a list of cells. Cells contain either explanatory text or executable code and its output. Click a cell to select it."
   ]
  },
  {
   "cell_type": "code",
   "execution_count": 5,
   "metadata": {
    "colab": {
     "base_uri": "https://localhost:8080/",
     "height": 34
    },
    "colab_type": "code",
    "id": "KTzIAcac0mY2",
    "outputId": "8427cdcc-30da-4f9c-e6ae-181decabbece"
   },
   "outputs": [
    {
     "data": {
      "text/plain": [
       "86400"
      ]
     },
     "execution_count": 5,
     "metadata": {
      "tags": []
     },
     "output_type": "execute_result"
    }
   ],
   "source": [
    "seconds_in_a_day = 24 * 60 * 60\n",
    "seconds_in_a_day"
   ]
  },
  {
   "cell_type": "code",
   "execution_count": null,
   "metadata": {
    "colab": {
     "base_uri": "https://localhost:8080/",
     "height": 34
    },
    "colab_type": "code",
    "id": "-gE-Ez1qtyIA",
    "outputId": "94cb2224-0edf-457b-90b5-0ac3488d8a97"
   },
   "outputs": [
    {
     "data": {
      "text/plain": [
       "604800"
      ]
     },
     "execution_count": 0,
     "metadata": {
      "tags": []
     },
     "output_type": "execute_result"
    }
   ],
   "source": [
    "seconds_in_a_week = 7 * seconds_in_a_day\n",
    "seconds_in_a_week"
   ]
  },
  {
   "cell_type": "code",
   "execution_count": 2,
   "metadata": {
    "colab": {
     "base_uri": "https://localhost:8080/",
     "height": 281
    },
    "colab_type": "code",
    "id": "8o7570hDKlUN",
    "outputId": "7a91f025-7d2a-485f-b23e-1bf89fd83980"
   },
   "outputs": [
    {
     "data": {
      "image/png": "[encoded data removed]",
      "text/plain": [
       "<Figure size 432x288 with 1 Axes>"
      ]
     },
     "metadata": {
      "needs_background": "light"
     },
     "output_type": "display_data"
    }
   ],
   "source": [
    "import numpy as np\n",
    "from matplotlib import pyplot as plt\n",
    "\n",
    "ys = 200 + np.random.randn(100)\n",
    "x = [x for x in range(len(ys))]\n",
    "plt.plot(x,ys,'-')\n",
    "plt.fill_between(x,ys,196,where=(ys>195),facecolor='g',alpha=0.6)\n",
    "plt.title(\"sample visualization\")\n",
    "plt.show()\n"
   ]
  },
  {
   "cell_type": "code",
   "execution_count": 1,
   "metadata": {
    "colab": {
     "base_uri": "https://localhost:8080/",
     "height": 34
    },
    "colab_type": "code",
    "id": "ajV-luXsLur-",
    "outputId": "873c069d-4ff6-4f85-ed34-fe03dbfb5664"
   },
   "outputs": [
    {
     "name": "stderr",
     "output_type": "stream",
     "text": [
      "UsageError: Line magic function `%tensorflow_version` not found.\n"
     ]
    }
   ],
   "source": [
    "%tensorflow_version 1.x"
   ]
  },
  {
   "cell_type": "code",
   "execution_count": 2,
   "metadata": {
    "colab": {
     "base_uri": "https://localhost:8080/",
     "height": 34
    },
    "colab_type": "code",
    "id": "1kasx8ICM3R_",
    "outputId": "e45d085a-be3e-4f2d-d7d9-e6db2cc89a4b"
   },
   "outputs": [
    {
     "name": "stderr",
     "output_type": "stream",
     "text": [
      "/Users/AllenWang/miniconda3/envs/tf3.6/lib/python3.6/site-packages/tensorflow/python/framework/dtypes.py:526: FutureWarning: Passing (type, 1) or '1type' as a synonym of type is deprecated; in a future version of numpy, it will be understood as (type, (1,)) / '(1,)type'.\n",
      "  _np_qint8 = np.dtype([(\"qint8\", np.int8, 1)])\n",
      "/Users/AllenWang/miniconda3/envs/tf3.6/lib/python3.6/site-packages/tensorflow/python/framework/dtypes.py:527: FutureWarning: Passing (type, 1) or '1type' as a synonym of type is deprecated; in a future version of numpy, it will be understood as (type, (1,)) / '(1,)type'.\n",
      "  _np_quint8 = np.dtype([(\"quint8\", np.uint8, 1)])\n",
      "/Users/AllenWang/miniconda3/envs/tf3.6/lib/python3.6/site-packages/tensorflow/python/framework/dtypes.py:528: FutureWarning: Passing (type, 1) or '1type' as a synonym of type is deprecated; in a future version of numpy, it will be understood as (type, (1,)) / '(1,)type'.\n",
      "  _np_qint16 = np.dtype([(\"qint16\", np.int16, 1)])\n",
      "/Users/AllenWang/miniconda3/envs/tf3.6/lib/python3.6/site-packages/tensorflow/python/framework/dtypes.py:529: FutureWarning: Passing (type, 1) or '1type' as a synonym of type is deprecated; in a future version of numpy, it will be understood as (type, (1,)) / '(1,)type'.\n",
      "  _np_quint16 = np.dtype([(\"quint16\", np.uint16, 1)])\n",
      "/Users/AllenWang/miniconda3/envs/tf3.6/lib/python3.6/site-packages/tensorflow/python/framework/dtypes.py:530: FutureWarning: Passing (type, 1) or '1type' as a synonym of type is deprecated; in a future version of numpy, it will be understood as (type, (1,)) / '(1,)type'.\n",
      "  _np_qint32 = np.dtype([(\"qint32\", np.int32, 1)])\n",
      "/Users/AllenWang/miniconda3/envs/tf3.6/lib/python3.6/site-packages/tensorflow/python/framework/dtypes.py:535: FutureWarning: Passing (type, 1) or '1type' as a synonym of type is deprecated; in a future version of numpy, it will be understood as (type, (1,)) / '(1,)type'.\n",
      "  np_resource = np.dtype([(\"resource\", np.ubyte, 1)])\n"
     ]
    },
    {
     "name": "stdout",
     "output_type": "stream",
     "text": [
      "1.13.1\n"
     ]
    }
   ],
   "source": [
    "import tensorflow\n",
    "print(tensorflow.__version__)"
   ]
  },
  {
   "cell_type": "markdown",
   "metadata": {
    "colab_type": "text",
    "id": "KR921S_OQSHG"
   },
   "source": [
    "## Code cells\n",
    "Below is a **code cell**. Once the toolbar button indicates CONNECTED, click in the cell to select it and execute the contents in the following ways:\n",
    "\n",
    "* Click the **Play icon** in the left gutter of the cell;\n",
    "* Type **Cmd/Ctrl+Enter** to run the cell in place;\n",
    "* Type **Shift+Enter** to run the cell and move focus to the next cell (adding one if none exists); or\n",
    "* Type **Alt+Enter** to run the cell and insert a new code cell immediately below it.\n",
    "\n",
    "There are additional options for running some or all cells in the **Runtime** menu.\n"
   ]
  },
  {
   "cell_type": "code",
   "execution_count": null,
   "metadata": {
    "cellView": "both",
    "colab": {
     "height": 35
    },
    "colab_type": "code",
    "id": "WUtu4316QSHL",
    "outputId": "67bdf0c3-d76f-4226-fc34-a2f2d0eba60b"
   },
   "outputs": [
    {
     "data": {
      "text/plain": [
       "10"
      ]
     },
     "execution_count": 0,
     "metadata": {
      "tags": []
     },
     "output_type": "execute_result"
    }
   ],
   "source": [
    "a = 10\n",
    "a"
   ]
  },
  {
   "cell_type": "markdown",
   "metadata": {
    "colab_type": "text",
    "id": "Id6tDF1HQSHD"
   },
   "source": [
    "## Text cells\n",
    "This is a **text cell**. You can **double-click** to edit this cell. Text cells\n",
    "use markdown syntax. To learn more, see our [markdown\n",
    "guide](/notebooks/markdown_guide.ipynb).\n",
    "\n",
    "You can also add math to text cells using [LaTeX](http://www.latex-project.org/)\n",
    "to be rendered by [MathJax](https://www.mathjax.org). Just place the statement\n",
    "within a pair of **\\$** signs. For example `$\\sqrt{3x-1}+(1+x)^2$` becomes\n",
    "$\\sqrt{3x-1}+(1+x)^2.$\n"
   ]
  },
  {
   "cell_type": "markdown",
   "metadata": {
    "colab_type": "text",
    "id": "7bqjkGKwQSHW"
   },
   "source": [
    "## Adding and moving cells\n",
    "You can add new cells by using the **+ CODE** and **+ TEXT** buttons that show when you hover between cells. These buttons are also in the toolbar above the notebook where they can be used to add a cell below the currently selected cell.\n",
    "\n",
    "You can move a cell by selecting it and clicking **Cell Up** or **Cell Down** in the top toolbar. \n",
    "\n",
    "Consecutive cells can be selected by \"lasso selection\" by dragging from outside one cell and through the group.  Non-adjacent cells can be selected concurrently by clicking one and then holding down Ctrl while clicking another.  Similarly, using Shift instead of Ctrl will select all intermediate cells."
   ]
  },
  {
   "cell_type": "markdown",
   "metadata": {
    "colab_type": "text",
    "id": "GOwlZRXEQSHZ"
   },
   "source": [
    "# Working with python\n",
    "Colaboratory is built on top of [Jupyter Notebook](https://jupyter.org/). Below are some examples of convenience functions provided."
   ]
  },
  {
   "cell_type": "markdown",
   "metadata": {
    "colab_type": "text",
    "id": "RVuqWUXPQSHa"
   },
   "source": [
    "Long running python processes can be interrupted. Run the following cell and select **Runtime -> Interrupt execution** (*hotkey: Cmd/Ctrl-M I*) to stop execution."
   ]
  },
  {
   "cell_type": "code",
   "execution_count": null,
   "metadata": {
    "cellView": "both",
    "colab": {
     "height": 244
    },
    "colab_type": "code",
    "id": "d-S-3nYLQSHb",
    "outputId": "38d534fc-8b61-4f9f-d731-74b23aadb5bc"
   },
   "outputs": [
    {
     "name": "stdout",
     "output_type": "stream",
     "text": [
      "Sleeping\n"
     ]
    },
    {
     "ename": "KeyboardInterrupt",
     "evalue": "ignored",
     "output_type": "error",
     "traceback": [
      "\u001b[1;31m---------------------------------------------------------------------------\u001b[0m\n\u001b[1;31mKeyboardInterrupt\u001b[0m                         Traceback (most recent call last)",
      "\u001b[1;32m<ipython-input-3-626f81edbca4>\u001b[0m in \u001b[0;36m<module>\u001b[1;34m()\u001b[0m\n\u001b[0;32m      1\u001b[0m \u001b[1;32mimport\u001b[0m \u001b[0mtime\u001b[0m\u001b[1;33m\u001b[0m\u001b[0m\n\u001b[0;32m      2\u001b[0m \u001b[1;32mprint\u001b[0m \u001b[1;34m\"Sleeping\"\u001b[0m\u001b[1;33m\u001b[0m\u001b[0m\n\u001b[1;32m----> 3\u001b[1;33m \u001b[0mtime\u001b[0m\u001b[1;33m.\u001b[0m\u001b[0msleep\u001b[0m\u001b[1;33m(\u001b[0m\u001b[1;36m30\u001b[0m\u001b[1;33m)\u001b[0m \u001b[1;31m# sleep for a while; interrupt me!\u001b[0m\u001b[1;33m\u001b[0m\u001b[0m\n\u001b[0m\u001b[0;32m      4\u001b[0m \u001b[1;32mprint\u001b[0m \u001b[1;34m\"Done Sleeping\"\u001b[0m\u001b[1;33m\u001b[0m\u001b[0m\n",
      "\u001b[1;31mKeyboardInterrupt\u001b[0m: "
     ]
    }
   ],
   "source": [
    "import time\n",
    "print(\"Sleeping\")\n",
    "time.sleep(30) # sleep for a while; interrupt me!\n",
    "print(\"Done Sleeping\")"
   ]
  },
  {
   "cell_type": "markdown",
   "metadata": {
    "colab_type": "text",
    "id": "Wej_mEyXQSHc"
   },
   "source": [
    "## System aliases\n",
    "\n",
    "Jupyter includes shortcuts for common operations, such as ls:"
   ]
  },
  {
   "cell_type": "code",
   "execution_count": null,
   "metadata": {
    "cellView": "both",
    "colab": {
     "height": 323
    },
    "colab_type": "code",
    "id": "5OCYEvK5QSHf",
    "outputId": "2ee8ae66-72ed-425c-e20b-bc5ac307ef3e"
   },
   "outputs": [
    {
     "name": "stdout",
     "output_type": "stream",
     "text": [
      "\u001b[0m\u001b[01;36march\u001b[0m@      \u001b[01;32mdmesg\u001b[0m*          \u001b[01;32mls\u001b[0m*          \u001b[01;32mpwd\u001b[0m*        \u001b[01;32mtrue\u001b[0m*\n",
      "\u001b[01;36mawk\u001b[0m@       \u001b[01;32mdnsdomainname\u001b[0m*  \u001b[01;32mlsmod\u001b[0m*       \u001b[01;32mreadlink\u001b[0m*   \u001b[01;32mumount\u001b[0m*\n",
      "\u001b[01;36mbasename\u001b[0m@  \u001b[01;32mdomainname\u001b[0m*     \u001b[01;32mmail\u001b[0m*        \u001b[01;36mred\u001b[0m@        \u001b[01;32muname\u001b[0m*\n",
      "\u001b[01;32mbash\u001b[0m*      \u001b[01;32mecho\u001b[0m*           \u001b[01;32mmkdir\u001b[0m*       \u001b[01;32mrm\u001b[0m*         \u001b[01;32muncompress\u001b[0m*\n",
      "\u001b[01;36mbunzip2\u001b[0m@   \u001b[01;36med\u001b[0m@             \u001b[01;32mmknod\u001b[0m*       \u001b[01;32mrmdir\u001b[0m*      \u001b[01;32musleep\u001b[0m*\n",
      "\u001b[01;32mbusybox\u001b[0m*   \u001b[01;32megrep\u001b[0m*          \u001b[01;32mmktemp\u001b[0m*      \u001b[01;32mrun-parts\u001b[0m*  \u001b[01;32mver\u001b[0m*\n",
      "\u001b[01;36mbzip2\u001b[0m@     \u001b[01;32mfalse\u001b[0m*          \u001b[01;32mmore\u001b[0m*        \u001b[01;32msed\u001b[0m*        \u001b[01;32mwhich\u001b[0m*\n",
      "\u001b[01;32mcat\u001b[0m*       \u001b[01;32mfgrep\u001b[0m*          \u001b[01;32mmount\u001b[0m*       \u001b[01;36msh\u001b[0m@         \u001b[01;34mwrapper_checkpoints\u001b[0m/\n",
      "\u001b[01;32mchgrp\u001b[0m*     \u001b[01;36mgawk\u001b[0m@           \u001b[01;32mmountpoint\u001b[0m*  \u001b[01;32msleep\u001b[0m*      \u001b[01;32mzcat\u001b[0m*\n",
      "\u001b[01;32mchmod\u001b[0m*     \u001b[01;32mgrep\u001b[0m*           \u001b[01;32mmv\u001b[0m*          \u001b[01;36msort\u001b[0m@       \u001b[01;32mzcmp\u001b[0m*\n",
      "\u001b[01;32mchown\u001b[0m*     \u001b[01;32mgunzip\u001b[0m*         \u001b[01;32mnc\u001b[0m*          \u001b[01;32mstty\u001b[0m*       \u001b[01;32mzdiff\u001b[0m*\n",
      "\u001b[01;32mcp\u001b[0m*        \u001b[01;32mgzexe\u001b[0m*          \u001b[01;36mnetcat\u001b[0m@      \u001b[01;32msu\u001b[0m*         \u001b[01;32mzegrep\u001b[0m*\n",
      "\u001b[01;32mcpio\u001b[0m*      \u001b[01;32mgzip\u001b[0m*           \u001b[01;32mnetstat\u001b[0m*     \u001b[01;32msync\u001b[0m*       \u001b[01;32mzfgrep\u001b[0m*\n",
      "\u001b[01;36mcsh\u001b[0m@       \u001b[01;32mhostname\u001b[0m*       \u001b[01;36mnice\u001b[0m@        \u001b[01;32mtailf\u001b[0m*      \u001b[01;32mzforce\u001b[0m*\n",
      "\u001b[01;36mcut\u001b[0m@       \u001b[01;36migawk\u001b[0m@          \u001b[01;36mpidof\u001b[0m@       \u001b[01;32mtar\u001b[0m*        \u001b[01;32mzgrep\u001b[0m*\n",
      "\u001b[01;32mdate\u001b[0m*      \u001b[01;32mkill\u001b[0m*           \u001b[01;32mping\u001b[0m*        \u001b[01;36mtcsh\u001b[0m@       \u001b[01;32mzless\u001b[0m*\n",
      "\u001b[01;32mdd\u001b[0m*        \u001b[01;32mln\u001b[0m*             \u001b[01;32mping6\u001b[0m*       \u001b[01;32mtempfile\u001b[0m*   \u001b[01;32mzmore\u001b[0m*\n",
      "\u001b[01;32mdf\u001b[0m*        \u001b[01;32mlogin\u001b[0m*          \u001b[01;32mps\u001b[0m*          \u001b[01;32mtouch\u001b[0m*      \u001b[01;32mznew\u001b[0m*\n"
     ]
    }
   ],
   "source": [
    "!ls /bin"
   ]
  },
  {
   "cell_type": "markdown",
   "metadata": {
    "colab_type": "text",
    "id": "y8Da6JWKQSHh"
   },
   "source": [
    "That `!ls` probably generated a large output. You can select the cell and clear the output by either: \n",
    "\n",
    "1. Clicking on the clear output button (x) in the toolbar above the cell; or\n",
    "2. Right clicking the left gutter of the output area and selecting \"Clear output\" from the context menu.\n",
    "\n",
    "Execute any other process using `!` with string interpolation from python variables, and note the result can be assigned to a variable:"
   ]
  },
  {
   "cell_type": "code",
   "execution_count": null,
   "metadata": {
    "cellView": "both",
    "colab": {
     "height": 35
    },
    "colab_type": "code",
    "id": "zqGrv0blQSHj",
    "outputId": "4970b019-8ae1-47d3-cbc9-ebdb69ee1031"
   },
   "outputs": [
    {
     "data": {
      "text/plain": [
       "['Colaboratory is great!', 'Colaboratory is great!']"
      ]
     },
     "execution_count": 0,
     "metadata": {
      "tags": []
     },
     "output_type": "execute_result"
    }
   ],
   "source": [
    "message = 'Colaboratory is great!'\n",
    "foo = !echo -e '$message\\n$message'\n",
    "foo"
   ]
  },
  {
   "cell_type": "markdown",
   "metadata": {
    "colab_type": "text",
    "id": "qM4myQGfQboQ"
   },
   "source": [
    "## Magics\n",
    "Colaboratory shares the notion of magics from Jupyter. There are shorthand annotations that change how a cell's text is executed. To learn more, see [Jupyter's magics page](http://nbviewer.jupyter.org/github/ipython/ipython/blob/1.x/examples/notebooks/Cell%20Magics.ipynb). \n"
   ]
  },
  {
   "cell_type": "code",
   "execution_count": null,
   "metadata": {
    "cellView": "both",
    "colab": {
     "height": 38
    },
    "colab_type": "code",
    "id": "odfM-_GxWbCy",
    "outputId": "3f059816-dc25-4670-ca46-e2ee50a9490e"
   },
   "outputs": [
    {
     "data": {
      "text/html": [
       "<marquee style='width: 30%; color: blue;'><b>Whee!</b></marquee>"
      ],
      "text/plain": [
       "<IPython.core.display.HTML at 0x558e1385fc10>"
      ]
     },
     "metadata": {
      "tags": []
     },
     "output_type": "display_data"
    }
   ],
   "source": [
    "%%html\n",
    "<marquee style='width: 30%; color: blue;'><b>Whee!</b></marquee>"
   ]
  },
  {
   "cell_type": "code",
   "execution_count": null,
   "metadata": {
    "colab": {
     "height": 221
    },
    "colab_type": "code",
    "id": "_YrTcK7k22Fp",
    "outputId": "bb3a69dd-49b7-4a6c-966a-64f77007a525"
   },
   "outputs": [
    {
     "data": {
      "text/html": [
       "<svg xmlns=\"http://www.w3.org/2000/svg\" viewBox=\"0 0 450 400\" width=\"200\" height=\"200\">\n",
       "  <rect x=\"80\" y=\"60\" width=\"250\" height=\"250\" rx=\"20\" style=\"fill:red; stroke:black; fill-opacity:0.7\" />\n",
       "  <rect x=\"180\" y=\"110\" width=\"250\" height=\"250\" rx=\"40\" style=\"fill:blue; stroke:black; fill-opacity:0.5;\" />\n",
       "</svg>"
      ],
      "text/plain": [
       "<IPython.core.display.HTML at 0x5636f4dd54d0>"
      ]
     },
     "metadata": {
      "tags": []
     },
     "output_type": "display_data"
    }
   ],
   "source": [
    "%%html\n",
    "<svg xmlns=\"http://www.w3.org/2000/svg\" viewBox=\"0 0 450 400\" width=\"200\" height=\"200\">\n",
    "  <rect x=\"80\" y=\"60\" width=\"250\" height=\"250\" rx=\"20\" style=\"fill:red; stroke:black; fill-opacity:0.7\" />\n",
    "  <rect x=\"180\" y=\"110\" width=\"250\" height=\"250\" rx=\"40\" style=\"fill:blue; stroke:black; fill-opacity:0.5;\" />\n",
    "</svg>"
   ]
  },
  {
   "cell_type": "markdown",
   "metadata": {
    "colab_type": "text",
    "id": "d4L9TOP9QSHn"
   },
   "source": [
    "## Tab-completion and exploring code\n",
    "\n",
    "Colab provides tab completion to explore attributes of Python objects, as well as to quickly view documentation strings. As an example, first run the following cell to import the  [`numpy`](http://www.numpy.org) module."
   ]
  },
  {
   "cell_type": "code",
   "execution_count": null,
   "metadata": {
    "cellView": "both",
    "colab": {},
    "colab_type": "code",
    "id": "Q0JKWcmtQSHp"
   },
   "outputs": [],
   "source": [
    "import numpy as np"
   ]
  },
  {
   "cell_type": "markdown",
   "metadata": {
    "colab_type": "text",
    "id": "1M890-bXeyYp"
   },
   "source": [
    "If you now insert your cursor after ``np.random.`` and press **Tab**, you will see the list of available completions within the ``np.random`` submodule."
   ]
  },
  {
   "cell_type": "code",
   "execution_count": null,
   "metadata": {
    "cellView": "both",
    "colab": {},
    "colab_type": "code",
    "id": "j6QRIfUHQSHq"
   },
   "outputs": [],
   "source": [
    "np.random."
   ]
  },
  {
   "cell_type": "markdown",
   "metadata": {
    "colab_type": "text",
    "id": "g6MfomFhQSHs"
   },
   "source": [
    "If you type an open parenthesis followed by the **Tab** key after any function or class in the module, you will see a pop-up of its documentation string:"
   ]
  },
  {
   "cell_type": "code",
   "execution_count": null,
   "metadata": {
    "cellView": "both",
    "colab": {},
    "colab_type": "code",
    "id": "SD0XnrVhQSHt"
   },
   "outputs": [],
   "source": [
    "np.random.rand("
   ]
  },
  {
   "cell_type": "markdown",
   "metadata": {
    "colab_type": "text",
    "id": "9ReRLQaxJ-zP"
   },
   "source": [
    "To open the documentation in a persistent pane at the bottom of your screen, add a **?** after the object or method name and execute the cell using **Shift+Enter**:"
   ]
  },
  {
   "cell_type": "code",
   "execution_count": null,
   "metadata": {
    "cellView": "both",
    "colab": {},
    "colab_type": "code",
    "id": "YgQ6Tu7DK17l"
   },
   "outputs": [],
   "source": [
    "np.random?"
   ]
  },
  {
   "cell_type": "markdown",
   "metadata": {
    "colab_type": "text",
    "id": "TYTBdJXxfqiJ"
   },
   "source": [
    "## Exception Formatting"
   ]
  },
  {
   "cell_type": "markdown",
   "metadata": {
    "colab_type": "text",
    "id": "4bqAVK-aQSHx"
   },
   "source": [
    "Exceptions are formatted nicely in Colab outputs:"
   ]
  },
  {
   "cell_type": "code",
   "execution_count": null,
   "metadata": {
    "cellView": "both",
    "colab": {},
    "colab_type": "code",
    "id": "CrJf1PEmQSHx",
    "outputId": "a8c7a413-a1e6-49f1-c7b5-58986eff5047"
   },
   "outputs": [
    {
     "ename": "ZeroDivisionError",
     "evalue": "",
     "output_type": "error",
     "traceback": [
      "\u001b[1;31m---------------------------------------------------------------------------\u001b[0m\n\u001b[1;31mZeroDivisionError\u001b[0m                         Traceback (most recent call last)",
      "\u001b[1;32m<ipython-input-14-dc39888fd1d2>\u001b[0m in \u001b[0;36m<module>\u001b[1;34m()\u001b[0m\n\u001b[0;32m      1\u001b[0m \u001b[0mx\u001b[0m \u001b[1;33m=\u001b[0m \u001b[1;36m1\u001b[0m\u001b[1;33m\u001b[0m\u001b[0m\n\u001b[0;32m      2\u001b[0m \u001b[0my\u001b[0m \u001b[1;33m=\u001b[0m \u001b[1;36m4\u001b[0m\u001b[1;33m\u001b[0m\u001b[0m\n\u001b[1;32m----> 3\u001b[1;33m \u001b[0mz\u001b[0m \u001b[1;33m=\u001b[0m \u001b[0my\u001b[0m\u001b[1;33m/\u001b[0m\u001b[1;33m(\u001b[0m\u001b[1;36m1\u001b[0m\u001b[1;33m-\u001b[0m\u001b[0mx\u001b[0m\u001b[1;33m)\u001b[0m\u001b[1;33m\u001b[0m\u001b[0m\n\u001b[0m",
      "\u001b[1;31mZeroDivisionError\u001b[0m: integer division or modulo by zero"
     ]
    }
   ],
   "source": [
    "x = 1\n",
    "y = 4\n",
    "z = y/(1-x)"
   ]
  },
  {
   "cell_type": "markdown",
   "metadata": {
    "colab_type": "text",
    "id": "7cRnhv_7N4Pa"
   },
   "source": [
    "## Rich, interactive outputs\n",
    "Until now all of the generated outputs have been text, but they can be more interesting, like the chart below. "
   ]
  },
  {
   "cell_type": "code",
   "execution_count": null,
   "metadata": {
    "colab": {
     "height": 371
    },
    "colab_type": "code",
    "id": "JVXnTqyE9RET",
    "outputId": "a20709c6-9773-49e9-bc49-1e8468ea990b"
   },
   "outputs": [
    {
     "data": {
      "image/png": "[encoded data removed]",
      "text/plain": [
       "<matplotlib.figure.Figure at 0x5636f516d150>"
      ]
     },
     "metadata": {
      "tags": []
     },
     "output_type": "display_data"
    }
   ],
   "source": [
    "import numpy as np\n",
    "from matplotlib import pyplot as plt\n",
    "\n",
    "ys = 200 + np.random.randn(100)\n",
    "x = [x for x in range(len(ys))]\n",
    "\n",
    "plt.plot(x, ys, '-')\n",
    "plt.fill_between(x, ys, 195, where=(ys > 195), facecolor='g', alpha=0.6)\n",
    "\n",
    "plt.title(\"Fills and Alpha Example\")\n",
    "plt.show()"
   ]
  },
  {
   "cell_type": "markdown",
   "metadata": {
    "colab_type": "text",
    "id": "aro-UJgUQSH1"
   },
   "source": [
    "# Integration with Drive\n",
    "\n",
    "Colaboratory is integrated with Google Drive. It allows you to share, comment, and collaborate on the same document with multiple people:\n",
    "\n",
    "* The **SHARE** button (top-right of the toolbar) allows you to share the notebook and control permissions set on it.\n",
    "\n",
    "* **File->Make a Copy** creates a copy of the notebook in Drive.\n",
    "\n",
    "* **File->Save** saves the File to Drive. **File->Save and checkpoint** pins the version so it doesn't get deleted from the revision history. \n",
    "\n",
    "* **File->Revision history** shows the notebook's revision history. "
   ]
  },
  {
   "cell_type": "markdown",
   "metadata": {
    "colab_type": "text",
    "id": "4hfV37gxpP_c"
   },
   "source": [
    "## Commenting on a cell\n",
    "You can comment on a Colaboratory notebook like you would on a Google Document. Comments are attached to cells, and are displayed next to the cell they refer to. If you have **comment-only** permissions, you will see a comment button on the top right of the cell when you hover over it.\n",
    "\n",
    "If you have edit or comment permissions you can comment on a cell in one of three ways: \n",
    "\n",
    "1. Select a cell and click the comment button in the toolbar above the top-right corner of the cell.\n",
    "1. Right click a text cell and select **Add a comment** from the context menu.\n",
    "3. Use the shortcut **Ctrl+Shift+M** to add a comment to the currently selected cell. \n",
    "\n",
    "You can resolve and reply to comments, and you can target comments to specific collaborators by typing *+[email address]* (e.g., `+user@domain.com`). Addressed collaborators will be emailed. \n",
    "\n",
    "The Comment button in the top-right corner of the page shows all comments attached to the notebook."
   ]
  }
 ],
 "metadata": {
  "colab": {
   "collapsed_sections": [],
   "include_colab_link": true,
   "name": "Overview of Colaboratory Features",
   "provenance": [],
   "toc_visible": true
  },
  "kernelspec": {
   "display_name": "Python 36(ML)",
   "language": "python",
   "name": "ml"
  },
  "language_info": {
   "codemirror_mode": {
    "name": "ipython",
    "version": 3
   },
   "file_extension": ".py",
   "mimetype": "text/x-python",
   "name": "python",
   "nbconvert_exporter": "python",
   "pygments_lexer": "ipython3",
   "version": "3.6.12"
  }
 },
 "nbformat": 4,
 "nbformat_minor": 4
}
