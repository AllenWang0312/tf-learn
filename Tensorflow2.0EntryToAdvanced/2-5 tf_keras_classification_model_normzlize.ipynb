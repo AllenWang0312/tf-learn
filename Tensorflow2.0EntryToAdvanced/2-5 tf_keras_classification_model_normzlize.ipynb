{
 "cells": [
  {
   "cell_type": "code",
   "execution_count": 26,
   "id": "common-window",
   "metadata": {},
   "outputs": [
    {
     "name": "stdout",
     "output_type": "stream",
     "text": [
      "2.0.0\n",
      "sys.version_info(major=3, minor=7, micro=9, releaselevel='final', serial=0)\n",
      "matplotlib 3.3.4\n",
      "numpy 1.19.2\n",
      "pandas 1.2.1\n",
      "sklearn 0.23.2\n",
      "tensorflow 2.0.0\n",
      "tensorflow_core.keras 2.2.4-tf\n"
     ]
    }
   ],
   "source": [
    "#画图\n",
    "import matplotlib as mpl \n",
    "import matplotlib.pyplot as plt\n",
    "#在notebook里画图\n",
    "%matplotlib inline\n",
    "import numpy as np\n",
    "import sklearn\n",
    "#处理数据\n",
    "import pandas as pd\n",
    "import os\n",
    "import sys\n",
    "import time\n",
    "import tensorflow as tf\n",
    "\n",
    "from tensorflow import keras\n",
    "\n",
    "print(tf.__version__)\n",
    "print(sys.version_info)\n",
    "for module in mpl,np,pd,sklearn,tf,keras:\n",
    "    print(module.__name__,module.__version__)\n",
    "\n"
   ]
  },
  {
   "cell_type": "code",
   "execution_count": 27,
   "id": "muslim-program",
   "metadata": {},
   "outputs": [
    {
     "name": "stdout",
     "output_type": "stream",
     "text": [
      "(5000, 28, 28) (5000,)\n",
      "(55000, 28, 28) (55000,)\n",
      "(10000, 28, 28) (10000,)\n"
     ]
    }
   ],
   "source": [
    "fashion_mnist = keras.datasets.fashion_mnist\n",
    "(x_train_all,y_train_all),(x_test,y_test) = fashion_mnist.load_data()\n",
    "x_valid,x_train = x_train_all[:5000],x_train_all[5000:]\n",
    "y_valid,y_train = y_train_all[:5000],y_train_all[5000:]\n",
    "\n",
    "print(x_valid.shape,y_valid.shape)\n",
    "print(x_train.shape,y_train.shape)\n",
    "print(x_test.shape,y_test.shape)"
   ]
  },
  {
   "cell_type": "code",
   "execution_count": 28,
   "id": "random-watershed",
   "metadata": {},
   "outputs": [
    {
     "name": "stdout",
     "output_type": "stream",
     "text": [
      "255 0\n"
     ]
    }
   ],
   "source": [
    "print(np.max(x_train),np.min(x_train))"
   ]
  },
  {
   "cell_type": "code",
   "execution_count": 29,
   "id": "industrial-vietnam",
   "metadata": {},
   "outputs": [],
   "source": [
    "# x = (x-u均值)/ std方差\n",
    "from sklearn.preprocessing import StandardScaler\n",
    "scaler = StandardScaler()\n",
    "x_train_scaled = scaler.fit_transform(x_train.astype(np.float32).reshape(-1,1)).reshape(-1,28,28)\n",
    "x_valid_scaled = scaler.transform(x_valid.astype(np.float32).reshape(-1,1)).reshape(-1,28,28)\n",
    "x_test_scaled = scaler.transform(x_test.astype(np.float32).reshape(-1,1)).reshape(-1,28,28)"
   ]
  },
  {
   "cell_type": "code",
   "execution_count": 30,
   "id": "extraordinary-solomon",
   "metadata": {},
   "outputs": [
    {
     "name": "stdout",
     "output_type": "stream",
     "text": [
      "2.0231433 -0.8105136\n"
     ]
    }
   ],
   "source": [
    "print(np.max(x_train_scaled),np.min(x_train_scaled))"
   ]
  },
  {
   "cell_type": "code",
   "execution_count": 31,
   "id": "administrative-europe",
   "metadata": {},
   "outputs": [],
   "source": [
    "# tf.keras.models.Sequential\n",
    "\"\"\"\n",
    "model=keras.models.Sequential()\n",
    "model.add(keras.layers.Flatten(input_shape=[28,28]))\n",
    "model.add(keras.layers.Dense(300,activation=\"relu\"))\n",
    "model.add(keras.layers.Dense(100,activation=\"relu\"))\n",
    "model.add(keras.layers.Dense(10,activation=\"softmax\"))\n",
    "\"\"\"\n",
    "model = keras.models.Sequential([\n",
    "    keras.layers.Flatten(input_shape=[28,28]),\n",
    "    keras.layers.Dense(400,activation=\"relu\"),\n",
    "    keras.layers.Dense(200,activation=\"relu\"),\n",
    "    keras.layers.Dense(10,activation=\"softmax\"),\n",
    "])\n",
    "\n",
    "#relu: y=max(0,x)\n",
    "#softmax: 将向量分布变成概率分布 x=[x1,x2,x3]\n",
    "#         y=[e^x1/sum,e^x2/sum,e^x3/sum],sum=e^x1+e^x2+e^x3\n",
    "\n",
    "#如果y 只是一个数就是用sparse_.. 如果y是一个向量就使用categorical_crossentropy\n",
    "model.compile(loss=\"sparse_categorical_crossentropy\",optimizer=\"sgd\",metrics=[\"accuracy\"])"
   ]
  },
  {
   "cell_type": "code",
   "execution_count": 33,
   "id": "periodic-dairy",
   "metadata": {},
   "outputs": [
    {
     "name": "stdout",
     "output_type": "stream",
     "text": [
      "Train on 55000 samples, validate on 5000 samples\n",
      "Epoch 1/10\n",
      "55000/55000 [==============================] - 8s 143us/sample - loss: 0.5283 - accuracy: 0.8129 - val_loss: 0.4103 - val_accuracy: 0.8584\n",
      "Epoch 2/10\n",
      "55000/55000 [==============================] - 7s 130us/sample - loss: 0.3890 - accuracy: 0.8599 - val_loss: 0.3644 - val_accuracy: 0.8726\n",
      "Epoch 3/10\n",
      "55000/55000 [==============================] - 7s 135us/sample - loss: 0.3508 - accuracy: 0.8723 - val_loss: 0.3536 - val_accuracy: 0.8746\n",
      "Epoch 4/10\n",
      "55000/55000 [==============================] - 7s 134us/sample - loss: 0.3260 - accuracy: 0.8807 - val_loss: 0.3362 - val_accuracy: 0.8822\n",
      "Epoch 5/10\n",
      "55000/55000 [==============================] - 8s 138us/sample - loss: 0.3059 - accuracy: 0.8887 - val_loss: 0.3160 - val_accuracy: 0.8884\n",
      "Epoch 6/10\n",
      "55000/55000 [==============================] - 7s 135us/sample - loss: 0.2884 - accuracy: 0.8950 - val_loss: 0.3178 - val_accuracy: 0.8866\n",
      "Epoch 7/10\n",
      "55000/55000 [==============================] - 8s 137us/sample - loss: 0.2749 - accuracy: 0.9005 - val_loss: 0.3131 - val_accuracy: 0.8860\n",
      "Epoch 8/10\n",
      "55000/55000 [==============================] - 8s 137us/sample - loss: 0.2617 - accuracy: 0.9031 - val_loss: 0.2985 - val_accuracy: 0.8956\n",
      "Epoch 9/10\n",
      "55000/55000 [==============================] - 8s 138us/sample - loss: 0.2501 - accuracy: 0.9091 - val_loss: 0.2970 - val_accuracy: 0.8940\n",
      "Epoch 10/10\n",
      "55000/55000 [==============================] - 8s 140us/sample - loss: 0.2397 - accuracy: 0.9133 - val_loss: 0.2933 - val_accuracy: 0.8964\n"
     ]
    }
   ],
   "source": [
    "\n",
    "logdir ='./callbacks'\n",
    "if not os.path.exists(logdir):\n",
    "    os.mkdir(logdir)\n",
    "output_model_file=os.path.join(logdir,\"fashion_mnist_model.h5\")\n",
    "\n",
    "callbacks = [\n",
    "    keras.callbacks.TensorBoard(logdir),\n",
    "    keras.callbacks.ModelCheckpoint(output_model_file,save_best_only = True),\n",
    "    keras.callbacks.EarlyStopping(patience=5,min_delta=1e-3),\n",
    "]\n",
    "\n",
    "history=model.fit(x_train_scaled,y_train,epochs=10,validation_data=(x_valid_scaled,y_valid),callbacks=callbacks)"
   ]
  },
  {
   "cell_type": "code",
   "execution_count": null,
   "id": "focused-lottery",
   "metadata": {},
   "outputs": [],
   "source": [
    "model.evaluate(x_test,y_test)"
   ]
  },
  {
   "cell_type": "code",
   "execution_count": null,
   "id": "caring-tribe",
   "metadata": {},
   "outputs": [],
   "source": []
  }
 ],
 "metadata": {
  "kernelspec": {
   "display_name": "Python 37(ML)",
   "language": "python",
   "name": "ml37"
  },
  "language_info": {
   "codemirror_mode": {
    "name": "ipython",
    "version": 3
   },
   "file_extension": ".py",
   "mimetype": "text/x-python",
   "name": "python",
   "nbconvert_exporter": "python",
   "pygments_lexer": "ipython3",
   "version": "3.7.9"
  }
 },
 "nbformat": 4,
 "nbformat_minor": 5
}
