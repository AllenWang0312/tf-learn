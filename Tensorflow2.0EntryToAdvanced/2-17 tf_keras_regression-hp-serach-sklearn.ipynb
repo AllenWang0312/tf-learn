{
 "cells": [
  {
   "cell_type": "code",
   "execution_count": null,
   "id": "given-newark",
   "metadata": {},
   "outputs": [],
   "source": [
    "import os\n",
    "import sys\n",
    "import time\n",
    "\n",
    "#画图\n",
    "import matplotlib as mpl \n",
    "import matplotlib.pyplot as plt\n",
    "#在notebook里画图\n",
    "%matplotlib inline\n",
    "import numpy as np\n",
    "import sklearn\n",
    "#处理数据\n",
    "import pandas as pd\n",
    "\n",
    "import tensorflow as tf\n",
    "from tensorflow import keras\n",
    "\n",
    "# print(tf.__version__)\n",
    "# print(sys.version_info)\n",
    "# for module in mpl,np,pd,sklearn,tf,keras:\n",
    "#     print(module.__name__,module.__version__)"
   ]
  },
  {
   "cell_type": "code",
   "execution_count": null,
   "id": "collaborative-undergraduate",
   "metadata": {},
   "outputs": [],
   "source": [
    "from sklearn.datasets import fetch_california_housing\n",
    "housing = fetch_california_housing()\n",
    "# print(housing.DESCR)\n",
    "# print(housing.data.shape)\n",
    "# print(housing.target.shape)\n",
    "\n",
    "# import pprint\n",
    "# pprint.pprint(housing.data[0:5])\n",
    "# pprint.pprint(housing.target[0:5]) \n"
   ]
  },
  {
   "cell_type": "code",
   "execution_count": null,
   "id": "integrated-favorite",
   "metadata": {},
   "outputs": [],
   "source": [
    "from sklearn.model_selection import train_test_split\n",
    "x_train_all,x_test,y_train_all,y_test = train_test_split(housing.data,housing.target,random_state =7)\n",
    "x_train,x_valid,y_train,y_valid = train_test_split(x_train_all,y_train_all,random_state = 11)\n",
    "# print(x_valid.shape,y_valid.shape)\n",
    "# print(x_train.shape,y_train.shape)\n",
    "# print(x_test.shape,y_test.shape)\n",
    "# print(np.max(x_train),np.min(x_train))"
   ]
  },
  {
   "cell_type": "code",
   "execution_count": null,
   "id": "frank-encounter",
   "metadata": {},
   "outputs": [],
   "source": [
    "# x = (x-u均值)/ std方差\n",
    "from sklearn.preprocessing import StandardScaler\n",
    "scaler = StandardScaler()\n",
    "x_train_scaled = scaler.fit_transform(x_train)\n",
    "x_valid_scaled = scaler.transform(x_valid)\n",
    "x_test_scaled = scaler.transform(x_test)"
   ]
  },
  {
   "cell_type": "code",
   "execution_count": null,
   "id": "olive-paris",
   "metadata": {},
   "outputs": [],
   "source": [
    "print(np.max(x_train_scaled),np.min(x_train_scaled))"
   ]
  },
  {
   "cell_type": "code",
   "execution_count": null,
   "id": "driving-agency",
   "metadata": {},
   "outputs": [],
   "source": [
    "# RandomizedSearchCV\n",
    "#1. 转化为sklearn model\n",
    "def build_model(hidden_layers = 1,\n",
    "               layer_size = 30,\n",
    "               learning_rate = 3e-3):\n",
    "    model = keras.models.Sequential()\n",
    "    model.add(keras.layers.Dense(layer_size,activation = \"relu\",input_shape=x_train.shape[1:]))\n",
    "    for _ in range(hidden_layers -1):\n",
    "        model.add(keras.layers.Dense(layer_size,activation = 'relu'))\n",
    "    model.add(keras.layers.Dense(1))\n",
    "    optimizer = keras.optimizers.SGD(learning_rate)\n",
    "    model.compile(loss = 'mse',optimizer = optimizer)\n",
    "    return model\n",
    "\n",
    "sklearn_model = keras.wrappers.scikit_learn.KerasRegressor(build_model)\n",
    "    \n",
    "callbacks = [\n",
    "    keras.callbacks.EarlyStopping(patience=5,min_delta=1e-2)\n",
    "]\n",
    "history = sklearn_model.fit(x_train_scaled,y_train,epochs=100,validation_data=(x_valid_scaled,y_valid),callbacks=callbacks)"
   ]
  },
  {
   "cell_type": "code",
   "execution_count": null,
   "id": "natural-destruction",
   "metadata": {},
   "outputs": [],
   "source": [
    "def plot_learning_curves(history):\n",
    "    pd.DataFrame(history.history).plot(figsize=(8,5))\n",
    "    plt.grid(True)\n",
    "    plt.gca().set_ylim(0,1)\n",
    "    plt.show()\n",
    "    \n",
    "plot_learning_curves(history)"
   ]
  },
  {
   "cell_type": "code",
   "execution_count": null,
   "id": "correct-ethnic",
   "metadata": {},
   "outputs": [],
   "source": [
    "#2. 定义参数集合\n",
    "from scipy.stats import reciprocal\n",
    "#f(x) = 1/(x*log(b/a)) a<= x <=b\n",
    "# reciprocal.rvs(1e-4,1e-2,size=10)\n",
    "param_distribution = {\n",
    "    \"hidden_layers\":[1,2,3,4],\n",
    "    \"layer_size\":np.arange(1,100)\n",
    "    \"learning_rate\":reciprocal(1e-4,1e-2)\n",
    "}\n",
    "from sklearn.model_selection import RandomizedSearchCV\n",
    "random_search_cv = RandomizedSearchCV(sklearn_model,\n",
    "                                     param_distribution,\n",
    "                                      cv = 3,#cross_validation 训练集分成n份 n-1训练 最后一份验证\n",
    "                                     n_iter = 10,\n",
    "                                     n_jobs =5)\n",
    "#3. 搜索参数\n",
    "random_search_cv.fit(x_train_scaled,y_train,epochs = 100,\n",
    "                    validation_data = (x_valid_scaled,y_valid),callbacks = callbacks)\n",
    "print(random_search_cv.best_params_)#最好的参数\n",
    "print(random_search_cv.best_score_)#最小的loss\n",
    "print(random_search_cv.best_estimator_)#最好的model"
   ]
  },
  {
   "cell_type": "code",
   "execution_count": null,
   "id": "listed-fitting",
   "metadata": {},
   "outputs": [],
   "source": [
    "model = random_serach_cv.best_estimator_.model\n",
    "model.evaluate(x_test_scaled,y_test)"
   ]
  }
 ],
 "metadata": {
  "kernelspec": {
   "display_name": "Python 37(ML)",
   "language": "python",
   "name": "ml37"
  },
  "language_info": {
   "codemirror_mode": {
    "name": "ipython",
    "version": 3
   },
   "file_extension": ".py",
   "mimetype": "text/x-python",
   "name": "python",
   "nbconvert_exporter": "python",
   "pygments_lexer": "ipython3",
   "version": "3.7.9"
  }
 },
 "nbformat": 4,
 "nbformat_minor": 5
}
