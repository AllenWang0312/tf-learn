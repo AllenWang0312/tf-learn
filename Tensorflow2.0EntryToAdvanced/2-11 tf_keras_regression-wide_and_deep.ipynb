{
 "cells": [
  {
   "cell_type": "markdown",
   "id": "historic-combining",
   "metadata": {},
   "source": [
    "# Wide & Deep 模型\n",
    "16年发布 用于分类和回归问题\n",
    "应用到了Google Play中的应用推荐\n",
    "[原始论文](https://arxiv.org/pdf/1606.07792v1.pdf)\n",
    "## 稀疏特征\n",
    " * 离散值特征 性别 专业 等 只能在n个值中选则一个的信息\n",
    " * One-hot \n",
    " * Eg:专业={计算机，人文，其他}。人文=[0,1,0] //词表\n",
    " * 叉乘 使用两个One-hot 数据进行叉乘（一一组合）\n",
    "### 优点 \n",
    "    有效 广泛用于工业界 广告点击预估 推荐算法\n",
    "### 缺点 \n",
    "    需要人工设计\n",
    "    可能过拟合 所有特征都叉乘 相当于记住了每一个样本\n",
    "    泛化能力差 没有出现过就不会起效果\n",
    "## 密集特征\n",
    "* 向量表达\n",
    "    * Eg:词表={人工智能，你，他，慕课网}\n",
    "    * 他=[0.3,0.2,0.6]\n",
    "* Word2vec工具\n",
    "### 优点\n",
    "    带有语义信息 不同向量之间有相关性\n",
    "    兼容没有出现过的特征组合\n",
    "    更少人工参与\n",
    "### 缺点\n",
    "    过度泛化 推荐不怎么相关的产品\n",
    "![wide wide&deep 模型对比](./2.11/截屏2021-03-02 上午11.08.33.jpg)\n",
    "![wide&deep deep 模型对比](./2.11/截屏2021-03-02 上午11.09.57.jpg)\n",
    "![google play 推荐算法模型图](./2.11/)\n",
    "\n",
    "使用tf.keras 实现 Wide&Deep模型\n",
    "* 子类api \n",
    "* 功能api \n",
    "* 多输入与多输出\n",
    "\n"
   ]
  },
  {
   "cell_type": "code",
   "execution_count": 1,
   "id": "cutting-bishop",
   "metadata": {},
   "outputs": [],
   "source": [
    "import os\n",
    "import sys\n",
    "import time\n",
    "\n",
    "#画图\n",
    "import matplotlib as mpl \n",
    "import matplotlib.pyplot as plt\n",
    "#在notebook里画图\n",
    "%matplotlib inline\n",
    "import numpy as np\n",
    "import sklearn\n",
    "#处理数据\n",
    "import pandas as pd\n",
    "\n",
    "import tensorflow as tf\n",
    "from tensorflow import keras\n",
    "\n",
    "# print(tf.__version__)\n",
    "# print(sys.version_info)\n",
    "# for module in mpl,np,pd,sklearn,tf,keras:\n",
    "#     print(module.__name__,module.__version__)"
   ]
  },
  {
   "cell_type": "code",
   "execution_count": 2,
   "id": "middle-pathology",
   "metadata": {},
   "outputs": [],
   "source": [
    "fashion_mnist = keras.datasets.fashion_mnist\n",
    "(x_train_all,y_train_all),(x_test,y_test) = fashion_mnist.load_data()\n",
    "x_valid,x_train = x_train_all[:5000],x_train_all[5000:]\n",
    "y_valid,y_train = y_train_all[:5000],y_train_all[5000:]\n",
    "\n",
    "# print(x_valid.shape,y_valid.shape)\n",
    "# print(x_train.shape,y_train.shape)\n",
    "# print(x_test.shape,y_test.shape)\n",
    "# print(np.max(x_train),np.min(x_train))"
   ]
  },
  {
   "cell_type": "code",
   "execution_count": 3,
   "id": "north-celtic",
   "metadata": {},
   "outputs": [],
   "source": [
    "# x = (x-u均值)/ std方差\n",
    "from sklearn.preprocessing import StandardScaler\n",
    "scaler = StandardScaler()\n",
    "x_train_scaled = scaler.fit_transform(x_train.astype(np.float32).reshape(-1,1)).reshape(-1,28,28)\n",
    "x_valid_scaled = scaler.transform(x_valid.astype(np.float32).reshape(-1,1)).reshape(-1,28,28)\n",
    "x_test_scaled = scaler.transform(x_test.astype(np.float32).reshape(-1,1)).reshape(-1,28,28)"
   ]
  },
  {
   "cell_type": "code",
   "execution_count": 4,
   "id": "contemporary-richmond",
   "metadata": {},
   "outputs": [
    {
     "name": "stdout",
     "output_type": "stream",
     "text": [
      "2.0231433 -0.8105136\n"
     ]
    }
   ],
   "source": [
    "print(np.max(x_train_scaled),np.min(x_train_scaled))"
   ]
  },
  {
   "cell_type": "code",
   "execution_count": 6,
   "id": "stone-mileage",
   "metadata": {},
   "outputs": [
    {
     "name": "stdout",
     "output_type": "stream",
     "text": [
      "Model: \"model\"\n",
      "__________________________________________________________________________________________________\n",
      "Layer (type)                    Output Shape         Param #     Connected to                     \n",
      "==================================================================================================\n",
      "input_2 (InputLayer)            [(None, 28, 28)]     0                                            \n",
      "__________________________________________________________________________________________________\n",
      "dense_2 (Dense)                 (None, 28, 30)       870         input_2[0][0]                    \n",
      "__________________________________________________________________________________________________\n",
      "dense_3 (Dense)                 (None, 28, 30)       930         dense_2[0][0]                    \n",
      "__________________________________________________________________________________________________\n",
      "concatenate (Concatenate)       (None, 28, 58)       0           input_2[0][0]                    \n",
      "                                                                 dense_3[0][0]                    \n",
      "__________________________________________________________________________________________________\n",
      "dense_4 (Dense)                 (None, 28, 1)        59          concatenate[0][0]                \n",
      "==================================================================================================\n",
      "Total params: 1,859\n",
      "Trainable params: 1,859\n",
      "Non-trainable params: 0\n",
      "__________________________________________________________________________________________________\n"
     ]
    }
   ],
   "source": [
    "# 函数式api\n",
    "input = keras.layers.Input(shape=x_train.shape[1:])\n",
    "hidden1 = keras.layers.Dense(30,activation='relu')(input)\n",
    "hidden2 = keras.layers.Dense(30,activation='relu')(hidden1)\n",
    "\n",
    "concat = keras.layers.concatenate([input,hidden2])\n",
    "output = keras.layers.Dense(1)(concat)\n",
    "\n",
    "model = keras.models.Model(inputs = [input],outputs=[output])\n",
    "\n",
    "\n",
    "model.summary()\n",
    "\n",
    "model.compile(loss=\"sparse_categorical_crossentropy\",\n",
    "              optimizer=\"sgd\",\n",
    "              metrics=[\"accuracy\"])\n"
   ]
  },
  {
   "cell_type": "code",
   "execution_count": 7,
   "id": "forward-involvement",
   "metadata": {},
   "outputs": [
    {
     "name": "stdout",
     "output_type": "stream",
     "text": [
      "Train on 55000 samples, validate on 5000 samples\n",
      "Epoch 1/100\n",
      "55000/55000 [==============================] - 10s 177us/sample - loss: 3.3857 - accuracy: 0.1009 - val_loss: 3.3322 - val_accuracy: 0.0914\n",
      "Epoch 2/100\n",
      "55000/55000 [==============================] - 9s 158us/sample - loss: 3.3322 - accuracy: 0.1008 - val_loss: 3.3322 - val_accuracy: 0.0914\n",
      "Epoch 3/100\n",
      "55000/55000 [==============================] - 9s 163us/sample - loss: 3.3322 - accuracy: 0.1008 - val_loss: 3.3322 - val_accuracy: 0.0914\n",
      "Epoch 4/100\n",
      "55000/55000 [==============================] - 9s 162us/sample - loss: 3.3322 - accuracy: 0.1008 - val_loss: 3.3322 - val_accuracy: 0.0914\n",
      "Epoch 5/100\n",
      "55000/55000 [==============================] - 9s 162us/sample - loss: 3.3322 - accuracy: 0.1008 - val_loss: 3.3322 - val_accuracy: 0.0914\n",
      "Epoch 6/100\n",
      "55000/55000 [==============================] - 9s 161us/sample - loss: 3.3322 - accuracy: 0.1008 - val_loss: 3.3322 - val_accuracy: 0.0914\n"
     ]
    }
   ],
   "source": [
    "\n",
    "callbacks = [\n",
    "    keras.callbacks.EarlyStopping(patience=5,min_delta=1e-2)\n",
    "]\n",
    "\n",
    "history=model.fit(x_train_scaled,y_train,epochs=100,validation_data=(x_valid_scaled,y_valid),callbacks=callbacks)"
   ]
  },
  {
   "cell_type": "code",
   "execution_count": null,
   "id": "sound-contents",
   "metadata": {},
   "outputs": [],
   "source": [
    "def plot_learning_curves(history):\n",
    "    pd.DataFrame(history.history).plot(figsize=(8,5))\n",
    "    plt.grid(True)\n",
    "    plt.gca().set_ylim(0,3)\n",
    "    plt.show()\n",
    "    \n",
    "plot_learning_curves(history)\n",
    "#1. 参数众多 训练不充分\n",
    "#2. 梯度消失 -> 链式法则 ->符合函数\n",
    "#3. 批归一化 环节梯度消失"
   ]
  },
  {
   "cell_type": "code",
   "execution_count": null,
   "id": "administrative-monster",
   "metadata": {},
   "outputs": [],
   "source": [
    "model.evaluate(x_test_scaled,y_test)"
   ]
  }
 ],
 "metadata": {
  "kernelspec": {
   "display_name": "Python 37(ML)",
   "language": "python",
   "name": "ml37"
  },
  "language_info": {
   "codemirror_mode": {
    "name": "ipython",
    "version": 3
   },
   "file_extension": ".py",
   "mimetype": "text/x-python",
   "name": "python",
   "nbconvert_exporter": "python",
   "pygments_lexer": "ipython3",
   "version": "3.7.9"
  }
 },
 "nbformat": 4,
 "nbformat_minor": 5
}
