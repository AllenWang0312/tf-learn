{
 "cells": [
  {
   "cell_type": "code",
   "execution_count": 8,
   "id": "documented-knight",
   "metadata": {},
   "outputs": [
    {
     "name": "stdout",
     "output_type": "stream",
     "text": [
      "2.0.0\n",
      "sys.version_info(major=3, minor=7, micro=9, releaselevel='final', serial=0)\n",
      "matplotlib 3.3.4\n",
      "numpy 1.19.2\n",
      "pandas 1.2.1\n",
      "sklearn 0.23.2\n",
      "tensorflow 2.0.0\n",
      "tensorflow_core.keras 2.2.4-tf\n"
     ]
    }
   ],
   "source": [
    "#画图\n",
    "import matplotlib as mpl \n",
    "import matplotlib.pyplot as plt\n",
    "#在notebook里画图\n",
    "%matplotlib inline\n",
    "import numpy as np\n",
    "import sklearn\n",
    "#处理数据\n",
    "import pandas as pd\n",
    "import os\n",
    "import sys\n",
    "import time\n",
    "import tensorflow as tf\n",
    "\n",
    "from tensorflow import keras\n",
    "\n",
    "print(tf.__version__)\n",
    "print(sys.version_info)\n",
    "for module in mpl,np,pd,sklearn,tf,keras:\n",
    "    print(module.__name__,module.__version__)\n",
    "\n"
   ]
  },
  {
   "cell_type": "code",
   "execution_count": 9,
   "id": "theoretical-defensive",
   "metadata": {},
   "outputs": [
    {
     "name": "stdout",
     "output_type": "stream",
     "text": [
      "(5000, 28, 28) (5000,)\n",
      "(55000, 28, 28) (55000,)\n",
      "(10000, 28, 28) (10000,)\n"
     ]
    }
   ],
   "source": [
    "fashion_mnist = keras.datasets.fashion_mnist\n",
    "(x_train_all,y_train_all),(x_test,y_test) = fashion_mnist.load_data()\n",
    "x_valid,x_train = x_train_all[:5000],x_train_all[5000:]\n",
    "y_valid,y_train = y_train_all[:5000],y_train_all[5000:]\n",
    "\n",
    "print(x_valid.shape,y_valid.shape)\n",
    "print(x_train.shape,y_train.shape)\n",
    "print(x_test.shape,y_test.shape)"
   ]
  },
  {
   "cell_type": "code",
   "execution_count": 16,
   "id": "trying-funeral",
   "metadata": {},
   "outputs": [
    {
     "name": "stdout",
     "output_type": "stream",
     "text": [
      "255 0\n"
     ]
    }
   ],
   "source": [
    "print(np.max(x_train),np.min(x_train))"
   ]
  },
  {
   "cell_type": "code",
   "execution_count": 17,
   "id": "hired-distance",
   "metadata": {},
   "outputs": [],
   "source": [
    "# x = (x-u均值)/ std方差\n",
    "from sklearn.preprocessing import StandardScaler\n",
    "scaler = StandardScaler()\n",
    "x_train_scaled = scaler.fit_transform(x_train.astype(np.float32).reshape(-1,1)).reshape(-1,28,28)\n",
    "x_valid_scaled = scaler.transform(x_valid.astype(np.float32).reshape(-1,1)).reshape(-1,28,28)\n",
    "x_test_scaled = scaler.transform(x_test.astype(np.float32).reshape(-1,1)).reshape(-1,28,28)"
   ]
  },
  {
   "cell_type": "code",
   "execution_count": 19,
   "id": "thirty-parameter",
   "metadata": {},
   "outputs": [
    {
     "name": "stdout",
     "output_type": "stream",
     "text": [
      "2.0231433 -0.8105136\n"
     ]
    }
   ],
   "source": [
    "print(np.max(x_train_scaled),np.min(x_train_scaled))"
   ]
  },
  {
   "cell_type": "code",
   "execution_count": null,
   "id": "rolled-visit",
   "metadata": {},
   "outputs": [],
   "source": [
    "# tf.keras.models.Sequential\n",
    "\"\"\"\n",
    "model=keras.models.Sequential()\n",
    "model.add(keras.layers.Flatten(input_shape=[28,28]))\n",
    "model.add(keras.layers.Dense(300,activation=\"relu\"))\n",
    "model.add(keras.layers.Dense(100,activation=\"relu\"))\n",
    "model.add(keras.layers.Dense(10,activation=\"softmax\"))\n",
    "\"\"\"\n",
    "model = keras.models.Sequential([\n",
    "    keras.layers.Flatten(input_shape=[28,28]),\n",
    "    keras.layers.Dense(400,activation=\"relu\"),\n",
    "    keras.layers.Dense(200,activation=\"relu\"),\n",
    "    keras.layers.Dense(10,activation=\"softmax\"),\n",
    "])\n",
    "\n",
    "#relu: y=max(0,x)\n",
    "#softmax: 将向量分布变成概率分布 x=[x1,x2,x3]\n",
    "#         y=[e^x1/sum,e^x2/sum,e^x3/sum],sum=e^x1+e^x2+e^x3\n",
    "\n",
    "#如果y 只是一个数就是用sparse_.. 如果y是一个向量就使用categorical_crossentropy\n",
    "#sgd 梯度下降 求导 更新参数\n",
    "model.compile(loss=\"sparse_categorical_crossentropy\",optimizer=\"sgd\",metrics=[\"accuracy\"])\n",
    "\n"
   ]
  },
  {
   "cell_type": "markdown",
   "id": "recovered-easter",
   "metadata": {},
   "source": [
    "#激活函数\n",
    "* Sigmoid \n",
    "* Leaky ReLU\n",
    "* tanh\n",
    "* Maxout\n",
    "* ReLU\n",
    "* ELU\n",
    "归一化 使得梯度下降的方向与等高线的法线方向一致 数据收敛更快\n",
    "dropout 随机抛弃一些节点 防止模型记住数据 一般用在过拟合的场景中（测试数据准确率很高 而验证集很低）"
   ]
  },
  {
   "cell_type": "code",
   "execution_count": 23,
   "id": "liable-joining",
   "metadata": {},
   "outputs": [
    {
     "name": "stdout",
     "output_type": "stream",
     "text": [
      "Train on 55000 samples, validate on 5000 samples\n",
      "Epoch 1/10\n",
      "55000/55000 [==============================] - 7s 126us/sample - loss: 0.3219 - accuracy: 0.8837 - val_loss: 0.3387 - val_accuracy: 0.8768\n",
      "Epoch 2/10\n",
      "55000/55000 [==============================] - 7s 127us/sample - loss: 0.3017 - accuracy: 0.8904 - val_loss: 0.3284 - val_accuracy: 0.8838\n",
      "Epoch 3/10\n",
      "55000/55000 [==============================] - 7s 127us/sample - loss: 0.2863 - accuracy: 0.8969 - val_loss: 0.3169 - val_accuracy: 0.8870\n",
      "Epoch 4/10\n",
      "55000/55000 [==============================] - 7s 131us/sample - loss: 0.2719 - accuracy: 0.9022 - val_loss: 0.3061 - val_accuracy: 0.8894\n",
      "Epoch 5/10\n",
      "55000/55000 [==============================] - 7s 129us/sample - loss: 0.2598 - accuracy: 0.9068 - val_loss: 0.3173 - val_accuracy: 0.8892\n",
      "Epoch 6/10\n",
      "55000/55000 [==============================] - 7s 128us/sample - loss: 0.2465 - accuracy: 0.9108 - val_loss: 0.3062 - val_accuracy: 0.8902\n",
      "Epoch 7/10\n",
      "55000/55000 [==============================] - 7s 135us/sample - loss: 0.2360 - accuracy: 0.9144 - val_loss: 0.3074 - val_accuracy: 0.8910\n",
      "Epoch 8/10\n",
      "55000/55000 [==============================] - 7s 133us/sample - loss: 0.2258 - accuracy: 0.9192 - val_loss: 0.3056 - val_accuracy: 0.8912\n",
      "Epoch 9/10\n",
      "55000/55000 [==============================] - 7s 134us/sample - loss: 0.2165 - accuracy: 0.9224 - val_loss: 0.3020 - val_accuracy: 0.8926\n",
      "Epoch 10/10\n",
      "55000/55000 [==============================] - 7s 133us/sample - loss: 0.2076 - accuracy: 0.9263 - val_loss: 0.3086 - val_accuracy: 0.8880\n"
     ]
    }
   ],
   "source": [
    "logdir ='./callbacks'\n",
    "if not os.path.exists(logdir):\n",
    "    os.mkdir(logdir)\n",
    "output_model_file=os.path.join(logdir,\"fashion_mnist_model.h5\")\n",
    "\n",
    "callbacks = [\n",
    "    keras.callbacks.TensorBoard(logdir),\n",
    "    keras.callbacks.ModelCheckpoint(output_model_file,save_best_only = True),\n",
    "    keras.callbacks.EarlyStopping(patience=5,min_delta=1e-3),\n",
    "]\n",
    "\n",
    "history=model.fit(x_train_scaled,y_train,epochs=10,validation_data=(x_valid_scaled,y_valid),callbacks=callbacks)"
   ]
  },
  {
   "cell_type": "code",
   "execution_count": 24,
   "id": "brief-worcester",
   "metadata": {},
   "outputs": [
    {
     "data": {
      "image/png": "[encoded data removed]",
      "text/plain": [
       "<Figure size 576x360 with 1 Axes>"
      ]
     },
     "metadata": {
      "needs_background": "light"
     },
     "output_type": "display_data"
    }
   ],
   "source": [
    "def plot_learning_curves(history):\n",
    "    pd.DataFrame(history.history).plot(figsize=(8,5))\n",
    "    plt.grid(True)\n",
    "    plt.gca().set_ylim(0,1)\n",
    "    plt.show()\n",
    "    \n",
    "plot_learning_curves(history)"
   ]
  },
  {
   "cell_type": "code",
   "execution_count": null,
   "id": "medium-subject",
   "metadata": {},
   "outputs": [],
   "source": [
    "model.evaluate(x_test,y_test)"
   ]
  },
  {
   "cell_type": "code",
   "execution_count": null,
   "id": "awful-adobe",
   "metadata": {},
   "outputs": [],
   "source": []
  }
 ],
 "metadata": {
  "kernelspec": {
   "display_name": "Python 37(ML)",
   "language": "python",
   "name": "ml37"
  },
  "language_info": {
   "codemirror_mode": {
    "name": "ipython",
    "version": 3
   },
   "file_extension": ".py",
   "mimetype": "text/x-python",
   "name": "python",
   "nbconvert_exporter": "python",
   "pygments_lexer": "ipython3",
   "version": "3.7.9"
  }
 },
 "nbformat": 4,
 "nbformat_minor": 5
}
