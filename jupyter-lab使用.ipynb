{
 "cells": [
  {
   "cell_type": "markdown",
   "id": "ordered-advertising",
   "metadata": {},
   "source": [
    "## jupyter-lab 使用\n",
    "[Conda 及 Jupyter 最佳实践](https://zhuanlan.zhihu.com/p/56152675)\n",
    "前提 您已经安装了conda 并且会使用conda"
   ]
  },
  {
   "cell_type": "markdown",
   "id": "expensive-split",
   "metadata": {},
   "source": [
    "```shell\n",
    "//全局安装jupyterlab\n",
    "conda install -c conda-forge juyterlab \n",
    "//启动JupyterLab\n",
    "jupyter-lab \n",
    "\n",
    "\n",
    "//进入环境\n",
    "conda activate tf3.7 \n",
    "conda install ipykernel\n",
    "//或者创建带有ipykernel 的环境\n",
    "conda create -n tf3.7 python=3.7 ipykernel\n",
    "conda activate tf3.7\n",
    "\n",
    "\n",
    "//将 ml 环境作为 kernel 初始化，并命名为 Python 3(ML)\n",
    "python -m ipykernel install --user --name ml --display-name \"Python 3(ML)\"\n",
    "\n",
    "//查看已安装的 kernel\n",
    "jupyter kernelspec list\n",
    "//删除kernel\n",
    "jupyter kernelspec remove kernelname\n",
    "\n",
    "\n",
    "``` \n"
   ]
  }
 ],
 "metadata": {
  "kernelspec": {
   "display_name": "Python 3",
   "language": "python",
   "name": "python3"
  },
  "language_info": {
   "codemirror_mode": {
    "name": "ipython",
    "version": 3
   },
   "file_extension": ".py",
   "mimetype": "text/x-python",
   "name": "python",
   "nbconvert_exporter": "python",
   "pygments_lexer": "ipython3",
   "version": "3.8.5"
  }
 },
 "nbformat": 4,
 "nbformat_minor": 5
}
